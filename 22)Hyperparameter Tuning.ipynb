{
 "cells": [
  {
   "cell_type": "code",
   "execution_count": 1,
   "id": "446357c1",
   "metadata": {},
   "outputs": [
    {
     "data": {
      "text/html": [
       "<div>\n",
       "<style scoped>\n",
       "    .dataframe tbody tr th:only-of-type {\n",
       "        vertical-align: middle;\n",
       "    }\n",
       "\n",
       "    .dataframe tbody tr th {\n",
       "        vertical-align: top;\n",
       "    }\n",
       "\n",
       "    .dataframe thead th {\n",
       "        text-align: right;\n",
       "    }\n",
       "</style>\n",
       "<table border=\"1\" class=\"dataframe\">\n",
       "  <thead>\n",
       "    <tr style=\"text-align: right;\">\n",
       "      <th></th>\n",
       "      <th>sepal length (cm)</th>\n",
       "      <th>sepal width (cm)</th>\n",
       "      <th>petal length (cm)</th>\n",
       "      <th>petal width (cm)</th>\n",
       "    </tr>\n",
       "  </thead>\n",
       "  <tbody>\n",
       "    <tr>\n",
       "      <th>0</th>\n",
       "      <td>5.1</td>\n",
       "      <td>3.5</td>\n",
       "      <td>1.4</td>\n",
       "      <td>0.2</td>\n",
       "    </tr>\n",
       "    <tr>\n",
       "      <th>1</th>\n",
       "      <td>4.9</td>\n",
       "      <td>3.0</td>\n",
       "      <td>1.4</td>\n",
       "      <td>0.2</td>\n",
       "    </tr>\n",
       "    <tr>\n",
       "      <th>2</th>\n",
       "      <td>4.7</td>\n",
       "      <td>3.2</td>\n",
       "      <td>1.3</td>\n",
       "      <td>0.2</td>\n",
       "    </tr>\n",
       "    <tr>\n",
       "      <th>3</th>\n",
       "      <td>4.6</td>\n",
       "      <td>3.1</td>\n",
       "      <td>1.5</td>\n",
       "      <td>0.2</td>\n",
       "    </tr>\n",
       "    <tr>\n",
       "      <th>4</th>\n",
       "      <td>5.0</td>\n",
       "      <td>3.6</td>\n",
       "      <td>1.4</td>\n",
       "      <td>0.2</td>\n",
       "    </tr>\n",
       "  </tbody>\n",
       "</table>\n",
       "</div>"
      ],
      "text/plain": [
       "   sepal length (cm)  sepal width (cm)  petal length (cm)  petal width (cm)\n",
       "0                5.1               3.5                1.4               0.2\n",
       "1                4.9               3.0                1.4               0.2\n",
       "2                4.7               3.2                1.3               0.2\n",
       "3                4.6               3.1                1.5               0.2\n",
       "4                5.0               3.6                1.4               0.2"
      ]
     },
     "execution_count": 1,
     "metadata": {},
     "output_type": "execute_result"
    }
   ],
   "source": [
    "import pandas as pd\n",
    "from sklearn.datasets import load_iris\n",
    "iris = load_iris()\n",
    "table = pd.DataFrame(iris.data,columns=iris.feature_names)\n",
    "table.head()"
   ]
  },
  {
   "cell_type": "code",
   "execution_count": 2,
   "id": "2c376f67",
   "metadata": {},
   "outputs": [
    {
     "data": {
      "text/html": [
       "<div>\n",
       "<style scoped>\n",
       "    .dataframe tbody tr th:only-of-type {\n",
       "        vertical-align: middle;\n",
       "    }\n",
       "\n",
       "    .dataframe tbody tr th {\n",
       "        vertical-align: top;\n",
       "    }\n",
       "\n",
       "    .dataframe thead th {\n",
       "        text-align: right;\n",
       "    }\n",
       "</style>\n",
       "<table border=\"1\" class=\"dataframe\">\n",
       "  <thead>\n",
       "    <tr style=\"text-align: right;\">\n",
       "      <th></th>\n",
       "      <th>sepal length (cm)</th>\n",
       "      <th>sepal width (cm)</th>\n",
       "      <th>petal length (cm)</th>\n",
       "      <th>petal width (cm)</th>\n",
       "      <th>target</th>\n",
       "    </tr>\n",
       "  </thead>\n",
       "  <tbody>\n",
       "    <tr>\n",
       "      <th>0</th>\n",
       "      <td>5.1</td>\n",
       "      <td>3.5</td>\n",
       "      <td>1.4</td>\n",
       "      <td>0.2</td>\n",
       "      <td>0</td>\n",
       "    </tr>\n",
       "    <tr>\n",
       "      <th>1</th>\n",
       "      <td>4.9</td>\n",
       "      <td>3.0</td>\n",
       "      <td>1.4</td>\n",
       "      <td>0.2</td>\n",
       "      <td>0</td>\n",
       "    </tr>\n",
       "    <tr>\n",
       "      <th>2</th>\n",
       "      <td>4.7</td>\n",
       "      <td>3.2</td>\n",
       "      <td>1.3</td>\n",
       "      <td>0.2</td>\n",
       "      <td>0</td>\n",
       "    </tr>\n",
       "    <tr>\n",
       "      <th>3</th>\n",
       "      <td>4.6</td>\n",
       "      <td>3.1</td>\n",
       "      <td>1.5</td>\n",
       "      <td>0.2</td>\n",
       "      <td>0</td>\n",
       "    </tr>\n",
       "    <tr>\n",
       "      <th>4</th>\n",
       "      <td>5.0</td>\n",
       "      <td>3.6</td>\n",
       "      <td>1.4</td>\n",
       "      <td>0.2</td>\n",
       "      <td>0</td>\n",
       "    </tr>\n",
       "  </tbody>\n",
       "</table>\n",
       "</div>"
      ],
      "text/plain": [
       "   sepal length (cm)  sepal width (cm)  petal length (cm)  petal width (cm)  \\\n",
       "0                5.1               3.5                1.4               0.2   \n",
       "1                4.9               3.0                1.4               0.2   \n",
       "2                4.7               3.2                1.3               0.2   \n",
       "3                4.6               3.1                1.5               0.2   \n",
       "4                5.0               3.6                1.4               0.2   \n",
       "\n",
       "   target  \n",
       "0       0  \n",
       "1       0  \n",
       "2       0  \n",
       "3       0  \n",
       "4       0  "
      ]
     },
     "execution_count": 2,
     "metadata": {},
     "output_type": "execute_result"
    }
   ],
   "source": [
    "table['target'] = iris.target\n",
    "table.head()"
   ]
  },
  {
   "cell_type": "code",
   "execution_count": 3,
   "id": "a3d44e68",
   "metadata": {},
   "outputs": [],
   "source": [
    "x = table.drop(['target'], axis='columns')\n",
    "y = iris.target  "
   ]
  },
  {
   "cell_type": "code",
   "execution_count": 4,
   "id": "7103c6d1",
   "metadata": {},
   "outputs": [],
   "source": [
    "from sklearn.model_selection import train_test_split\n",
    "X_train, X_test, y_train, y_test = train_test_split(x, y, test_size = 0.20, random_state = 0)"
   ]
  },
  {
   "cell_type": "code",
   "execution_count": 5,
   "id": "9eea7a8c",
   "metadata": {},
   "outputs": [],
   "source": [
    "from sklearn.tree import DecisionTreeClassifier"
   ]
  },
  {
   "cell_type": "code",
   "execution_count": 6,
   "id": "f35ff87c",
   "metadata": {},
   "outputs": [],
   "source": [
    "dt1 = DecisionTreeClassifier(criterion= 'gini', splitter= 'best', max_depth=2)\n",
    "dt2 = DecisionTreeClassifier(criterion= 'entropy', splitter= 'best', max_depth=5)\n",
    "dt3 = DecisionTreeClassifier(criterion= 'gini', splitter= 'random', max_depth= 4)\n",
    "dt4 = DecisionTreeClassifier(criterion= 'entropy', splitter= 'random', max_depth= 6)"
   ]
  },
  {
   "cell_type": "code",
   "execution_count": 7,
   "id": "cda535ea",
   "metadata": {},
   "outputs": [
    {
     "data": {
      "text/plain": [
       "DecisionTreeClassifier(criterion='entropy', max_depth=6, splitter='random')"
      ]
     },
     "execution_count": 7,
     "metadata": {},
     "output_type": "execute_result"
    }
   ],
   "source": [
    "dt1.fit(X_train, y_train)\n",
    "dt2.fit(X_train, y_train)\n",
    "dt3.fit(X_train, y_train)\n",
    "dt4.fit(X_train, y_train)"
   ]
  },
  {
   "cell_type": "code",
   "execution_count": 8,
   "id": "ef1e0d7c",
   "metadata": {},
   "outputs": [
    {
     "name": "stdout",
     "output_type": "stream",
     "text": [
      "dt1 ->  0.9666666666666667\n",
      "dt2 ->  1.0\n",
      "dt3 ->  0.9\n",
      "dt4 ->  0.9666666666666667\n"
     ]
    }
   ],
   "source": [
    "print('dt1 -> ',dt1.score(X_test, y_test))\n",
    "print('dt2 -> ',dt2.score(X_test, y_test))\n",
    "print('dt3 -> ',dt3.score(X_test, y_test))\n",
    "print('dt4 -> ',dt4.score(X_test, y_test))"
   ]
  },
  {
   "cell_type": "code",
   "execution_count": null,
   "id": "b49158a6",
   "metadata": {},
   "outputs": [],
   "source": []
  },
  {
   "cell_type": "code",
   "execution_count": 9,
   "id": "21f811fe",
   "metadata": {},
   "outputs": [],
   "source": [
    "dt = DecisionTreeClassifier()"
   ]
  },
  {
   "cell_type": "code",
   "execution_count": 10,
   "id": "4dbb3b6e",
   "metadata": {},
   "outputs": [],
   "source": [
    "from sklearn.model_selection import GridSearchCV"
   ]
  },
  {
   "cell_type": "code",
   "execution_count": 11,
   "id": "b2f5711d",
   "metadata": {},
   "outputs": [],
   "source": [
    "options = {'criterion': ('gini','entropy'),'splitter': ('best','random'),'max_depth' : list(range(1,7)) }"
   ]
  },
  {
   "cell_type": "code",
   "execution_count": 12,
   "id": "b2f4f5f7",
   "metadata": {},
   "outputs": [
    {
     "data": {
      "text/plain": [
       "GridSearchCV(estimator=DecisionTreeClassifier(),\n",
       "             param_grid={'criterion': ('gini', 'entropy'),\n",
       "                         'max_depth': [1, 2, 3, 4, 5, 6],\n",
       "                         'splitter': ('best', 'random')})"
      ]
     },
     "execution_count": 12,
     "metadata": {},
     "output_type": "execute_result"
    }
   ],
   "source": [
    "gs = GridSearchCV(dt,options)\n",
    "gs.fit(X_train, y_train)"
   ]
  },
  {
   "cell_type": "code",
   "execution_count": 13,
   "id": "ff429e53",
   "metadata": {},
   "outputs": [
    {
     "data": {
      "text/plain": [
       "[{'criterion': 'gini', 'max_depth': 1, 'splitter': 'best'},\n",
       " {'criterion': 'gini', 'max_depth': 1, 'splitter': 'random'},\n",
       " {'criterion': 'gini', 'max_depth': 2, 'splitter': 'best'},\n",
       " {'criterion': 'gini', 'max_depth': 2, 'splitter': 'random'},\n",
       " {'criterion': 'gini', 'max_depth': 3, 'splitter': 'best'},\n",
       " {'criterion': 'gini', 'max_depth': 3, 'splitter': 'random'},\n",
       " {'criterion': 'gini', 'max_depth': 4, 'splitter': 'best'},\n",
       " {'criterion': 'gini', 'max_depth': 4, 'splitter': 'random'},\n",
       " {'criterion': 'gini', 'max_depth': 5, 'splitter': 'best'},\n",
       " {'criterion': 'gini', 'max_depth': 5, 'splitter': 'random'},\n",
       " {'criterion': 'gini', 'max_depth': 6, 'splitter': 'best'},\n",
       " {'criterion': 'gini', 'max_depth': 6, 'splitter': 'random'},\n",
       " {'criterion': 'entropy', 'max_depth': 1, 'splitter': 'best'},\n",
       " {'criterion': 'entropy', 'max_depth': 1, 'splitter': 'random'},\n",
       " {'criterion': 'entropy', 'max_depth': 2, 'splitter': 'best'},\n",
       " {'criterion': 'entropy', 'max_depth': 2, 'splitter': 'random'},\n",
       " {'criterion': 'entropy', 'max_depth': 3, 'splitter': 'best'},\n",
       " {'criterion': 'entropy', 'max_depth': 3, 'splitter': 'random'},\n",
       " {'criterion': 'entropy', 'max_depth': 4, 'splitter': 'best'},\n",
       " {'criterion': 'entropy', 'max_depth': 4, 'splitter': 'random'},\n",
       " {'criterion': 'entropy', 'max_depth': 5, 'splitter': 'best'},\n",
       " {'criterion': 'entropy', 'max_depth': 5, 'splitter': 'random'},\n",
       " {'criterion': 'entropy', 'max_depth': 6, 'splitter': 'best'},\n",
       " {'criterion': 'entropy', 'max_depth': 6, 'splitter': 'random'}]"
      ]
     },
     "execution_count": 13,
     "metadata": {},
     "output_type": "execute_result"
    }
   ],
   "source": [
    "gs.cv_results_['params']"
   ]
  },
  {
   "cell_type": "code",
   "execution_count": 14,
   "id": "99eb5b4d",
   "metadata": {},
   "outputs": [
    {
     "data": {
      "text/plain": [
       "{'criterion': 'entropy', 'max_depth': 3, 'splitter': 'random'}"
      ]
     },
     "execution_count": 14,
     "metadata": {},
     "output_type": "execute_result"
    }
   ],
   "source": [
    "gs.best_params_"
   ]
  },
  {
   "cell_type": "code",
   "execution_count": 15,
   "id": "007a3253",
   "metadata": {},
   "outputs": [
    {
     "data": {
      "text/plain": [
       "array([0.69166667, 0.68333333, 0.94166667, 0.84166667, 0.93333333,\n",
       "       0.89166667, 0.93333333, 0.95      , 0.93333333, 0.94166667,\n",
       "       0.93333333, 0.925     , 0.69166667, 0.575     , 0.93333333,\n",
       "       0.86666667, 0.93333333, 0.95833333, 0.925     , 0.93333333,\n",
       "       0.93333333, 0.925     , 0.925     , 0.91666667])"
      ]
     },
     "execution_count": 15,
     "metadata": {},
     "output_type": "execute_result"
    }
   ],
   "source": [
    "scores=gs.cv_results_['mean_test_score']\n",
    "scores"
   ]
  },
  {
   "cell_type": "code",
   "execution_count": 16,
   "id": "fe4fec37",
   "metadata": {},
   "outputs": [
    {
     "data": {
      "text/plain": [
       "17"
      ]
     },
     "execution_count": 16,
     "metadata": {},
     "output_type": "execute_result"
    }
   ],
   "source": [
    "import numpy as np\n",
    "np.argmax(scores)"
   ]
  },
  {
   "cell_type": "code",
   "execution_count": 17,
   "id": "4a385c85",
   "metadata": {},
   "outputs": [
    {
     "data": {
      "text/plain": [
       "0.9416666666666668"
      ]
     },
     "execution_count": 17,
     "metadata": {},
     "output_type": "execute_result"
    }
   ],
   "source": [
    "scores[17]"
   ]
  },
  {
   "cell_type": "code",
   "execution_count": null,
   "id": "3b053c0d",
   "metadata": {},
   "outputs": [],
   "source": []
  },
  {
   "cell_type": "code",
   "execution_count": 38,
   "id": "c91e7cc5",
   "metadata": {},
   "outputs": [],
   "source": [
    "from sklearn.model_selection import RandomizedSearchCV"
   ]
  },
  {
   "cell_type": "code",
   "execution_count": 39,
   "id": "37bab4a3",
   "metadata": {},
   "outputs": [],
   "source": [
    "dt = DecisionTreeClassifier()"
   ]
  },
  {
   "cell_type": "code",
   "execution_count": 40,
   "id": "6594e0a8",
   "metadata": {},
   "outputs": [],
   "source": [
    "options = {'criterion': ('gini','entropy'),'splitter': ('best','random'),'max_depth' : list(range(1,7)) }"
   ]
  },
  {
   "cell_type": "code",
   "execution_count": 41,
   "id": "4d4ed31b",
   "metadata": {},
   "outputs": [],
   "source": [
    "samples = 5  \n",
    "rs = RandomizedSearchCV(dt, param_distributions=options, n_iter=samples)"
   ]
  },
  {
   "cell_type": "code",
   "execution_count": 42,
   "id": "689af189",
   "metadata": {},
   "outputs": [
    {
     "data": {
      "text/plain": [
       "RandomizedSearchCV(estimator=DecisionTreeClassifier(), n_iter=5,\n",
       "                   param_distributions={'criterion': ('gini', 'entropy'),\n",
       "                                        'max_depth': [1, 2, 3, 4, 5, 6],\n",
       "                                        'splitter': ('best', 'random')})"
      ]
     },
     "execution_count": 42,
     "metadata": {},
     "output_type": "execute_result"
    }
   ],
   "source": [
    "rs.fit(X_train, y_train)"
   ]
  },
  {
   "cell_type": "code",
   "execution_count": 43,
   "id": "54950039",
   "metadata": {},
   "outputs": [
    {
     "data": {
      "text/plain": [
       "[{'splitter': 'best', 'max_depth': 4, 'criterion': 'entropy'},\n",
       " {'splitter': 'best', 'max_depth': 5, 'criterion': 'entropy'},\n",
       " {'splitter': 'best', 'max_depth': 6, 'criterion': 'entropy'},\n",
       " {'splitter': 'random', 'max_depth': 6, 'criterion': 'entropy'},\n",
       " {'splitter': 'best', 'max_depth': 3, 'criterion': 'entropy'}]"
      ]
     },
     "execution_count": 43,
     "metadata": {},
     "output_type": "execute_result"
    }
   ],
   "source": [
    "rs.cv_results_['params']"
   ]
  },
  {
   "cell_type": "code",
   "execution_count": 44,
   "id": "7db3b570",
   "metadata": {},
   "outputs": [
    {
     "data": {
      "text/plain": [
       "{'splitter': 'best', 'max_depth': 6, 'criterion': 'entropy'}"
      ]
     },
     "execution_count": 44,
     "metadata": {},
     "output_type": "execute_result"
    }
   ],
   "source": [
    "rs.best_params_"
   ]
  },
  {
   "cell_type": "code",
   "execution_count": 45,
   "id": "b3b83aac",
   "metadata": {},
   "outputs": [
    {
     "data": {
      "text/plain": [
       "array([0.91666667, 0.925     , 0.94166667, 0.93333333, 0.93333333])"
      ]
     },
     "execution_count": 45,
     "metadata": {},
     "output_type": "execute_result"
    }
   ],
   "source": [
    "scores = rs.cv_results_['mean_test_score']\n",
    "scores"
   ]
  },
  {
   "cell_type": "code",
   "execution_count": 46,
   "id": "c826829b",
   "metadata": {},
   "outputs": [
    {
     "data": {
      "text/plain": [
       "2"
      ]
     },
     "execution_count": 46,
     "metadata": {},
     "output_type": "execute_result"
    }
   ],
   "source": [
    "np.argmax(scores)"
   ]
  },
  {
   "cell_type": "code",
   "execution_count": 47,
   "id": "e77ff126",
   "metadata": {},
   "outputs": [
    {
     "data": {
      "text/plain": [
       "0.9333333333333333"
      ]
     },
     "execution_count": 47,
     "metadata": {},
     "output_type": "execute_result"
    }
   ],
   "source": [
    "scores[2]"
   ]
  },
  {
   "cell_type": "code",
   "execution_count": null,
   "id": "fba36a04",
   "metadata": {},
   "outputs": [],
   "source": []
  }
 ],
 "metadata": {
  "kernelspec": {
   "display_name": "Python 3 (ipykernel)",
   "language": "python",
   "name": "python3"
  },
  "language_info": {
   "codemirror_mode": {
    "name": "ipython",
    "version": 3
   },
   "file_extension": ".py",
   "mimetype": "text/x-python",
   "name": "python",
   "nbconvert_exporter": "python",
   "pygments_lexer": "ipython3",
   "version": "3.9.13"
  }
 },
 "nbformat": 4,
 "nbformat_minor": 5
}
